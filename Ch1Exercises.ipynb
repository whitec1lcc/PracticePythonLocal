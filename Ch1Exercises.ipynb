{
 "cells": [
  {
   "cell_type": "markdown",
   "id": "7e7efa5b",
   "metadata": {},
   "source": [
    "# Chapter 1 Ex.\n",
    "Problems 1, 3, one of  4,5,6"
   ]
  },
  {
   "cell_type": "markdown",
   "id": "89f831bc",
   "metadata": {},
   "source": [
    "## Ex. 1"
   ]
  },
  {
   "cell_type": "code",
   "execution_count": 2,
   "id": "42c6bd26",
   "metadata": {},
   "outputs": [
    {
     "name": "stdout",
     "output_type": "stream",
     "text": [
      "This is a test of the Python Interpreter.\n"
     ]
    }
   ],
   "source": [
    "print('This is a test of the Python Interpreter.')"
   ]
  },
  {
   "cell_type": "code",
   "execution_count": 3,
   "id": "28da3740",
   "metadata": {},
   "outputs": [
    {
     "name": "stdout",
     "output_type": "stream",
     "text": [
      "This might work: 9\n"
     ]
    }
   ],
   "source": [
    "print('This might work:', 9)"
   ]
  },
  {
   "cell_type": "markdown",
   "id": "a674ae1a",
   "metadata": {},
   "source": [
    "## Ex 3"
   ]
  },
  {
   "cell_type": "markdown",
   "id": "64e48172",
   "metadata": {},
   "source": [
    "3.\n",
    "11\n",
    "00001011\n",
    "65\n",
    "01000001\n",
    "100\n",
    "01100100\n",
    "255\n",
    "111111111\n"
   ]
  },
  {
   "cell_type": "markdown",
   "id": "ecc87aef",
   "metadata": {},
   "source": [
    "## Ex 4"
   ]
  },
  {
   "cell_type": "code",
   "execution_count": null,
   "id": "f252fc71",
   "metadata": {},
   "outputs": [],
   "source": []
  }
 ],
 "metadata": {
  "kernelspec": {
   "display_name": "Python 3 (ipykernel)",
   "language": "python",
   "name": "python3"
  },
  "language_info": {
   "codemirror_mode": {
    "name": "ipython",
    "version": 3
   },
   "file_extension": ".py",
   "mimetype": "text/x-python",
   "name": "python",
   "nbconvert_exporter": "python",
   "pygments_lexer": "ipython3",
   "version": "3.11.7"
  }
 },
 "nbformat": 4,
 "nbformat_minor": 5
}
