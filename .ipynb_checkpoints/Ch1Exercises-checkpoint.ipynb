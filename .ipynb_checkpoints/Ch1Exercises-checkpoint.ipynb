{
 "cells": [
  {
   "cell_type": "markdown",
   "id": "2d6a542d",
   "metadata": {},
   "source": [
    "# Chapter 1 Ex.\n",
    "Problems 1, 3, one of  4,5,6"
   ]
  },
  {
   "cell_type": "markdown",
   "id": "ca226344",
   "metadata": {},
   "source": [
    "## Ex. 1"
   ]
  },
  {
   "cell_type": "code",
   "execution_count": 2,
   "id": "08b35d70",
   "metadata": {},
   "outputs": [
    {
     "name": "stdout",
     "output_type": "stream",
     "text": [
      "This is a test of the Python Interpreter.\n"
     ]
    }
   ],
   "source": [
    "print('This is a test of the Python Interpreter.')"
   ]
  },
  {
   "cell_type": "code",
   "execution_count": 3,
   "id": "f41d5c9b",
   "metadata": {},
   "outputs": [
    {
     "name": "stdout",
     "output_type": "stream",
     "text": [
      "This might work: 9\n"
     ]
    }
   ],
   "source": [
    "print('This might work:', 9)"
   ]
  },
  {
   "cell_type": "markdown",
   "id": "706e101e",
   "metadata": {},
   "source": [
    "## Ex 3"
   ]
  },
  {
   "cell_type": "markdown",
   "id": "1088ad53",
   "metadata": {},
   "source": [
    "3.\n",
    "11\n",
    "00001011\n",
    "65\n",
    "01000001\n",
    "100\n",
    "01100100\n",
    "255\n",
    "111111111\n"
   ]
  },
  {
   "cell_type": "markdown",
   "id": "722c23d6",
   "metadata": {},
   "source": [
    "## Ex 4"
   ]
  },
  {
   "cell_type": "markdown",
   "id": "892c60d7",
   "metadata": {},
   "source": [
    "1101 13\n",
    "1000 8\n",
    "101011 43\n"
   ]
  },
  {
   "cell_type": "markdown",
   "id": "f59481b0",
   "metadata": {},
   "source": [
    "## Ex 5"
   ]
  },
  {
   "cell_type": "markdown",
   "id": "505bdfe7",
   "metadata": {},
   "source": [
    "1101 13\n",
    "1000 8\n",
    "101011 43\n"
   ]
  },
  {
   "cell_type": "markdown",
   "id": "8796c64b",
   "metadata": {},
   "source": [
    "## Ex 6"
   ]
  },
  {
   "cell_type": "markdown",
   "id": "7170f6c3",
   "metadata": {},
   "source": [
    "Creator of python  Guido van Rossum\n",
    "when was it created 2-20-1991\n",
    "BDFL - Benevolent dictator for life \n"
   ]
  }
 ],
 "metadata": {
  "kernelspec": {
   "display_name": "Python 3 (ipykernel)",
   "language": "python",
   "name": "python3"
  },
  "language_info": {
   "codemirror_mode": {
    "name": "ipython",
    "version": 3
   },
   "file_extension": ".py",
   "mimetype": "text/x-python",
   "name": "python",
   "nbconvert_exporter": "python",
   "pygments_lexer": "ipython3",
   "version": "3.11.7"
  }
 },
 "nbformat": 4,
 "nbformat_minor": 5
}
